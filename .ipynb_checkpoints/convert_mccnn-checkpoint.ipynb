{
 "cells": [
  {
   "cell_type": "code",
   "execution_count": 1,
   "metadata": {
    "pycharm": {
     "is_executing": false
    }
   },
   "outputs": [],
   "source": [
    "import tensorflow as tf\n",
    "import numpy as np\n",
    "import glob"
   ]
  },
  {
   "cell_type": "code",
   "execution_count": 2,
   "metadata": {
    "pycharm": {
     "is_executing": false,
     "name": "#%%\n"
    }
   },
   "outputs": [],
   "source": [
    "def transpose_kernel(kernel):\n",
    "  return tf.transpose(kernel, (2, 3, 1, 0))\n",
    "\n",
    "def read_parameter(filename):\n",
    "    buffer = np.fromfile(filename, np.byte).tobytes()\n",
    "    dim = np.frombuffer(buffer, dtype=np.int32, count=1, offset=0)[0]\n",
    "    shape = np.frombuffer(buffer, dtype=np.int32, count=dim, offset=4)\n",
    "    array = np.frombuffer(buffer, dtype=np.float32, offset=4+4*dim)\n",
    "    return np.reshape(array, shape)\n",
    "\n",
    "def read_parameters(filename):\n",
    "    ws = glob.glob(filename + '_1_*W.bin')\n",
    "    bs = glob.glob(filename + '_1_*B.bin')\n",
    "    ws, bs = sorted(ws), sorted(bs)\n",
    "    \n",
    "    parameters = []\n",
    "    for w, b in zip(ws, bs):\n",
    "        w, b = read_parameter(w), read_parameter(b)\n",
    "        w = transpose_kernel(w)\n",
    "        parameters.append((w, b))\n",
    "    return parameters\n"
   ]
  },
  {
   "cell_type": "code",
   "execution_count": 3,
   "metadata": {
    "pycharm": {
     "is_executing": true,
     "name": "#%%\n"
    }
   },
   "outputs": [],
   "source": [
    "path = \"/home/pu/workspace/mc-cnn-chainer/mccnn/kitti_fast\"\n",
    "parameters = read_parameters(path)"
   ]
  },
  {
   "cell_type": "code",
   "execution_count": 5,
   "metadata": {
    "pycharm": {
     "is_executing": false,
     "name": "#%%\n"
    }
   },
   "outputs": [],
   "source": [
    "from mccnn import *"
   ]
  },
  {
   "cell_type": "code",
   "execution_count": 6,
   "metadata": {
    "pycharm": {
     "name": "#%%\n"
    }
   },
   "outputs": [],
   "source": [
    "model = fast_mccnn_model()\n"
   ]
  },
  {
   "cell_type": "code",
   "execution_count": 9,
   "metadata": {},
   "outputs": [
    {
     "name": "stderr",
     "output_type": "stream",
     "text": [
      "WARNING: Logging before flag parsing goes to stderr.\n",
      "W1016 16:44:42.509763 140318254724928 deprecation.py:323] From /home/pu/.app/anaconda3/lib/python3.7/site-packages/tensorflow_core/python/ops/image_ops_impl.py:1518: div (from tensorflow.python.ops.math_ops) is deprecated and will be removed in a future version.\n",
      "Instructions for updating:\n",
      "Deprecated in favor of operator or tf.math.divide.\n"
     ]
    }
   ],
   "source": [
    "model.build(input_shape=(None, None, None, 1))"
   ]
  },
  {
   "cell_type": "code",
   "execution_count": null,
   "metadata": {},
   "outputs": [],
   "source": [
    "model.variables"
   ]
  }
 ],
 "metadata": {
  "kernelspec": {
   "display_name": "PyCharm (geoflow)",
   "language": "python",
   "name": "pycharm-607cb0dc"
  },
  "language_info": {
   "codemirror_mode": {
    "name": "ipython",
    "version": 3
   },
   "file_extension": ".py",
   "mimetype": "text/x-python",
   "name": "python",
   "nbconvert_exporter": "python",
   "pygments_lexer": "ipython3",
   "version": "3.7.3"
  },
  "pycharm": {
   "stem_cell": {
    "cell_type": "raw",
    "metadata": {
     "collapsed": false
    },
    "source": []
   }
  }
 },
 "nbformat": 4,
 "nbformat_minor": 1
}
